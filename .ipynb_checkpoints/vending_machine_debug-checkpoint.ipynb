{
 "cells": [
  {
   "cell_type": "code",
   "execution_count": 132,
   "metadata": {},
   "outputs": [],
   "source": [
    "inserted_cash = []\n",
    "class vending_machine:\n",
    "    def __init__(self, cash):\n",
    "        while True:\n",
    "            try:\n",
    "                self.cash = float(input(\"Please insert cash: $\"))\n",
    "            except ValueError: \n",
    "                print('Please insert a valid dollar amount.')\n",
    "                continue\n",
    "            if self.cash > 20:\n",
    "                print(\"We do not accept more than $20 at a time.\")\n",
    "                continue\n",
    "            else:\n",
    "                break\n",
    "                \n",
    "    def cash_convert(self):\n",
    "            global inserted_cash\n",
    "            cash = float(self.cash) * 100\n",
    "            inserted_cash = cash\n",
    "            #print(inserted_cash)\n",
    "            p.select_drink()\n",
    "    \n",
    "    def select_drink(self):\n",
    "        drink_cost = {\n",
    "    \"water\" : 150,\n",
    "    \"soda\" : 200,\n",
    "    \"juice\" : 250,\n",
    "    \"energy drink\" : 300\n",
    "}\n",
    "        \n",
    "        print(f'You have ${(inserted_cash * .01)}')\n",
    "        print(\"Menu:\")\n",
    "        print(\"Water : $1.50\")\n",
    "        print(\"Soda : $2.00\")\n",
    "        print(\"Juice : $2.50\")\n",
    "        print(\"Energy Drink : $3.00\")\n",
    "        global drink_selection\n",
    "        drink_selection = input(\"Please select a drink:\")\n",
    "        global selection_cost\n",
    "        sanatize_input = drink_selection.lower()\n",
    "        if sanatize_input in drink_cost:\n",
    "            selection_cost = drink_cost.get(sanatize_input)\n",
    "        else:\n",
    "            print(\"Please enter a drink from the menu.\")\n",
    "            select_drink()\n",
    "        #selection_cost = drink_cost.get(sanatize_input)\n",
    "        p.transaction()\n",
    "        \n",
    "        \n",
    "    def transaction(self):\n",
    "        global inserted_cash\n",
    "        if int(inserted_cash) < selection_cost:\n",
    "            print('You do not have enough for this item.')\n",
    "            more_cash = input('Please insert more cash:')\n",
    "            inserted_cash = (float(more_cash) * 100) + inserted_cash\n",
    "            p.select_drink()\n",
    "        else:\n",
    "            change = int(inserted_cash) - int(selection_cost)\n",
    "            change = int(change) * .01\n",
    "            if change >= 1.5:\n",
    "                another_drink = input(f'You still have ${change} remaining. Would you like another drink? [Y/N]')\n",
    "                if another_drink.upper() == 'Y':\n",
    "                        inserted_cash = (change * 100)\n",
    "                        p.select_drink()\n",
    "                else: print(f\"Thank you, your change is ${change}, enjoy your {drink_selection}!\")\n",
    "            else:\n",
    "                print(f\"Thank you, your change is ${change}, enjoy your {drink_selection}!\")\n",
    "            \n",
    "            "
   ]
  },
  {
   "cell_type": "code",
   "execution_count": 133,
   "metadata": {},
   "outputs": [
    {
     "name": "stdout",
     "output_type": "stream",
     "text": [
      "Please insert cash: $21\n",
      "We do not accept more than $20 at a time.\n",
      "Please insert cash: $20\n",
      "2000.0\n",
      "You have $20.0\n",
      "Menu:\n",
      "Water : $1.50\n",
      "Soda : $2.00\n",
      "Juice : $2.50\n",
      "Energy Drink : $3.00\n",
      "Please select a drink:water\n",
      "You still have $18.5 remaining. Would you like another drink? [Y/N]n\n",
      "Thank you, your change is $18.5, enjoy your water!\n"
     ]
    }
   ],
   "source": [
    "p = vending_machine(1)\n",
    "p\n",
    "p.cash_convert()\n",
    "#p.select_drink()\n"
   ]
  },
  {
   "cell_type": "code",
   "execution_count": 51,
   "metadata": {},
   "outputs": [
    {
     "name": "stdout",
     "output_type": "stream",
     "text": [
      "Menu:\n",
      "Water : $1.50\n",
      "Soda : $2.00\n",
      "Juice : $2.50\n",
      "Energy Drink : $3.00\n",
      "Please select a drink:adfg\n",
      "Please enter a drink from the menu.\n",
      "Menu:\n",
      "Water : $1.50\n",
      "Soda : $2.00\n",
      "Juice : $2.50\n",
      "Energy Drink : $3.00\n",
      "Please select a drink:SFGa\n",
      "Please enter a drink from the menu.\n",
      "Menu:\n",
      "Water : $1.50\n",
      "Soda : $2.00\n",
      "Juice : $2.50\n",
      "Energy Drink : $3.00\n",
      "Please select a drink:Water\n",
      "water\n",
      "<class 'int'>\n",
      "sfga\n",
      "<class 'int'>\n",
      "adfg\n",
      "<class 'int'>\n"
     ]
    }
   ],
   "source": [
    "def select_drink():\n",
    "        drink_cost = {\n",
    "    \"water\" : 150,\n",
    "    \"soda\" : 200,\n",
    "    \"juice\" : 250,\n",
    "    \"energy drink\" : 300\n",
    "}\n",
    "        \n",
    "        #print(f'You have ${(inserted_cash * .01)}')\n",
    "        print(\"Menu:\")\n",
    "        print(\"Water : $1.50\")\n",
    "        print(\"Soda : $2.00\")\n",
    "        print(\"Juice : $2.50\")\n",
    "        print(\"Energy Drink : $3.00\")\n",
    "        global drink_selection\n",
    "        drink_selection = input(\"Please select a drink:\")\n",
    "        global selection_cost\n",
    "        sanatize_input = drink_selection.lower()\n",
    "        if sanatize_input in drink_cost:\n",
    "            selection_cost = drink_cost.get(sanatize_input)\n",
    "        else:\n",
    "            print(\"Please enter a drink from the menu.\")\n",
    "            select_drink()\n",
    "        #selection_cost = drink_cost.get(sanatize_input)\n",
    "        print(sanatize_input)\n",
    "        print(type(selection_cost))\n",
    "select_drink()\n"
   ]
  },
  {
   "cell_type": "code",
   "execution_count": 82,
   "metadata": {},
   "outputs": [],
   "source": [
    "class vending_machine:\n",
    "    #p = vending_machine(1)\n",
    "    def __init__(self, cash):\n",
    "        try:\n",
    "            self.cash = float(input(\"Please insert cash: $\"))\n",
    "        except: \n",
    "            print('Please insert a valid dollar amount.')\n",
    "            p.__init__(self)"
   ]
  },
  {
   "cell_type": "code",
   "execution_count": 84,
   "metadata": {},
   "outputs": [
    {
     "name": "stdout",
     "output_type": "stream",
     "text": [
      "Please insert cash: $e\n",
      "Please insert a valid dollar amount.\n",
      "Please insert cash: $e\n",
      "Please insert a valid dollar amount.\n",
      "Please insert cash: $1\n"
     ]
    },
    {
     "data": {
      "text/plain": [
       "<__main__.vending_machine at 0x1efd5124c40>"
      ]
     },
     "execution_count": 84,
     "metadata": {},
     "output_type": "execute_result"
    }
   ],
   "source": [
    "p = vending_machine(1)\n",
    "p"
   ]
  },
  {
   "cell_type": "code",
   "execution_count": null,
   "metadata": {},
   "outputs": [],
   "source": []
  }
 ],
 "metadata": {
  "kernelspec": {
   "display_name": "Python 3",
   "language": "python",
   "name": "python3"
  },
  "language_info": {
   "codemirror_mode": {
    "name": "ipython",
    "version": 3
   },
   "file_extension": ".py",
   "mimetype": "text/x-python",
   "name": "python",
   "nbconvert_exporter": "python",
   "pygments_lexer": "ipython3",
   "version": "3.8.5"
  }
 },
 "nbformat": 4,
 "nbformat_minor": 4
}

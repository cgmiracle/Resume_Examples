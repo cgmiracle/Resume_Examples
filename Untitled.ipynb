{
 "cells": [
  {
   "cell_type": "code",
   "execution_count": 54,
   "metadata": {},
   "outputs": [
    {
     "name": "stdout",
     "output_type": "stream",
     "text": [
      "Please Insert Cash: \n",
      "1\n"
     ]
    }
   ],
   "source": [
    "print(\"Please Insert Cash: \")\n",
    "cash_inserted = input()\n",
    "\n",
    "cash_convert = (int(cash_inserted) * 100)\n"
   ]
  },
  {
   "cell_type": "code",
   "execution_count": 55,
   "metadata": {},
   "outputs": [
    {
     "name": "stdout",
     "output_type": "stream",
     "text": [
      "You have $1\n",
      "Menu:\n",
      "Water : $1.50\n",
      "Soda : $2.00\n",
      "Juice : $2.50\n",
      "Energy Drink : $3.00\n",
      "Please select a drink:Water\n"
     ]
    }
   ],
   "source": [
    "print(f'You have ${cash_inserted}')\n",
    "print(\"Menu:\")\n",
    "print(\"Water : $1.50\")\n",
    "print(\"Soda : $2.00\")\n",
    "print(\"Juice : $2.50\")\n",
    "print(\"Energy Drink : $3.00\")\n",
    "drink_selection = input(\"Please select a drink:\")"
   ]
  },
  {
   "cell_type": "code",
   "execution_count": 56,
   "metadata": {},
   "outputs": [],
   "source": [
    "drink_cost = {\n",
    "    \"Water\" : 150,\n",
    "    \"Soda\" : 200,\n",
    "    \"Juice\" : 250,\n",
    "    \"Energy Drink\" : 300\n",
    "}"
   ]
  },
  {
   "cell_type": "code",
   "execution_count": 68,
   "metadata": {},
   "outputs": [
    {
     "name": "stdout",
     "output_type": "stream",
     "text": [
      "150\n"
     ]
    }
   ],
   "source": [
    "selection_cost = drink_cost.get(drink_selection)\n",
    "print(selection_cost)    "
   ]
  },
  {
   "cell_type": "code",
   "execution_count": 51,
   "metadata": {},
   "outputs": [
    {
     "name": "stdout",
     "output_type": "stream",
     "text": [
      "Thank you, your change is $0.5\n"
     ]
    }
   ],
   "source": [
    "def transaction():\n",
    "    change = int(cash_convert) - selection_cost\n",
    "    change = int(change) * .01\n",
    "    print(f\"Thank you, your change is ${change}\")\n",
    "    \n",
    "transaction()"
   ]
  },
  {
   "cell_type": "code",
   "execution_count": 58,
   "metadata": {},
   "outputs": [
    {
     "name": "stdout",
     "output_type": "stream",
     "text": [
      "You do not have enough for this item.\n"
     ]
    }
   ],
   "source": [
    "def transaction():\n",
    "    if cash_convert < selection_cost:\n",
    "        print('You do not have enough for this item.')\n",
    "    else:\n",
    "        change = int(cash_convert) - selection_cost\n",
    "        change = int(change) * .01\n",
    "        print(f\"Thank you, your change is ${change}\")\n",
    "    \n",
    "transaction()"
   ]
  },
  {
   "cell_type": "code",
   "execution_count": 61,
   "metadata": {},
   "outputs": [
    {
     "name": "stdout",
     "output_type": "stream",
     "text": [
      "Please Insert Cash: \n",
      "2\n"
     ]
    }
   ],
   "source": [
    "def insert_cash():\n",
    "    print(\"Please Insert Cash: \")\n",
    "    cash_inserted = input()\n",
    "\n",
    "    cash_convert = (int(cash_inserted) * 100)\n",
    "insert_cash()"
   ]
  },
  {
   "cell_type": "code",
   "execution_count": 62,
   "metadata": {},
   "outputs": [
    {
     "name": "stdout",
     "output_type": "stream",
     "text": [
      "You have $1\n",
      "Menu:\n",
      "Water : $1.50\n",
      "Soda : $2.00\n",
      "Juice : $2.50\n",
      "Energy Drink : $3.00\n"
     ]
    },
    {
     "ename": "KeyboardInterrupt",
     "evalue": "Interrupted by user",
     "output_type": "error",
     "traceback": [
      "\u001b[1;31m---------------------------------------------------------------------------\u001b[0m",
      "\u001b[1;31mKeyboardInterrupt\u001b[0m                         Traceback (most recent call last)",
      "\u001b[1;32m<ipython-input-62-28d26e8b11c8>\u001b[0m in \u001b[0;36m<module>\u001b[1;34m\u001b[0m\n\u001b[0;32m      8\u001b[0m     \u001b[0mdrink_selection\u001b[0m \u001b[1;33m=\u001b[0m \u001b[0minput\u001b[0m\u001b[1;33m(\u001b[0m\u001b[1;34m\"Please select a drink:\"\u001b[0m\u001b[1;33m)\u001b[0m\u001b[1;33m\u001b[0m\u001b[1;33m\u001b[0m\u001b[0m\n\u001b[0;32m      9\u001b[0m \u001b[1;33m\u001b[0m\u001b[0m\n\u001b[1;32m---> 10\u001b[1;33m \u001b[0mselect_drink\u001b[0m\u001b[1;33m(\u001b[0m\u001b[1;33m)\u001b[0m\u001b[1;33m\u001b[0m\u001b[1;33m\u001b[0m\u001b[0m\n\u001b[0m",
      "\u001b[1;32m<ipython-input-62-28d26e8b11c8>\u001b[0m in \u001b[0;36mselect_drink\u001b[1;34m()\u001b[0m\n\u001b[0;32m      6\u001b[0m     \u001b[0mprint\u001b[0m\u001b[1;33m(\u001b[0m\u001b[1;34m\"Juice : $2.50\"\u001b[0m\u001b[1;33m)\u001b[0m\u001b[1;33m\u001b[0m\u001b[1;33m\u001b[0m\u001b[0m\n\u001b[0;32m      7\u001b[0m     \u001b[0mprint\u001b[0m\u001b[1;33m(\u001b[0m\u001b[1;34m\"Energy Drink : $3.00\"\u001b[0m\u001b[1;33m)\u001b[0m\u001b[1;33m\u001b[0m\u001b[1;33m\u001b[0m\u001b[0m\n\u001b[1;32m----> 8\u001b[1;33m     \u001b[0mdrink_selection\u001b[0m \u001b[1;33m=\u001b[0m \u001b[0minput\u001b[0m\u001b[1;33m(\u001b[0m\u001b[1;34m\"Please select a drink:\"\u001b[0m\u001b[1;33m)\u001b[0m\u001b[1;33m\u001b[0m\u001b[1;33m\u001b[0m\u001b[0m\n\u001b[0m\u001b[0;32m      9\u001b[0m \u001b[1;33m\u001b[0m\u001b[0m\n\u001b[0;32m     10\u001b[0m \u001b[0mselect_drink\u001b[0m\u001b[1;33m(\u001b[0m\u001b[1;33m)\u001b[0m\u001b[1;33m\u001b[0m\u001b[1;33m\u001b[0m\u001b[0m\n",
      "\u001b[1;32m~\\anaconda3\\lib\\site-packages\\ipykernel\\kernelbase.py\u001b[0m in \u001b[0;36mraw_input\u001b[1;34m(self, prompt)\u001b[0m\n\u001b[0;32m    858\u001b[0m                 \u001b[1;34m\"raw_input was called, but this frontend does not support input requests.\"\u001b[0m\u001b[1;33m\u001b[0m\u001b[1;33m\u001b[0m\u001b[0m\n\u001b[0;32m    859\u001b[0m             )\n\u001b[1;32m--> 860\u001b[1;33m         return self._input_request(str(prompt),\n\u001b[0m\u001b[0;32m    861\u001b[0m             \u001b[0mself\u001b[0m\u001b[1;33m.\u001b[0m\u001b[0m_parent_ident\u001b[0m\u001b[1;33m,\u001b[0m\u001b[1;33m\u001b[0m\u001b[1;33m\u001b[0m\u001b[0m\n\u001b[0;32m    862\u001b[0m             \u001b[0mself\u001b[0m\u001b[1;33m.\u001b[0m\u001b[0m_parent_header\u001b[0m\u001b[1;33m,\u001b[0m\u001b[1;33m\u001b[0m\u001b[1;33m\u001b[0m\u001b[0m\n",
      "\u001b[1;32m~\\anaconda3\\lib\\site-packages\\ipykernel\\kernelbase.py\u001b[0m in \u001b[0;36m_input_request\u001b[1;34m(self, prompt, ident, parent, password)\u001b[0m\n\u001b[0;32m    902\u001b[0m             \u001b[1;32mexcept\u001b[0m \u001b[0mKeyboardInterrupt\u001b[0m\u001b[1;33m:\u001b[0m\u001b[1;33m\u001b[0m\u001b[1;33m\u001b[0m\u001b[0m\n\u001b[0;32m    903\u001b[0m                 \u001b[1;31m# re-raise KeyboardInterrupt, to truncate traceback\u001b[0m\u001b[1;33m\u001b[0m\u001b[1;33m\u001b[0m\u001b[1;33m\u001b[0m\u001b[0m\n\u001b[1;32m--> 904\u001b[1;33m                 \u001b[1;32mraise\u001b[0m \u001b[0mKeyboardInterrupt\u001b[0m\u001b[1;33m(\u001b[0m\u001b[1;34m\"Interrupted by user\"\u001b[0m\u001b[1;33m)\u001b[0m \u001b[1;32mfrom\u001b[0m \u001b[1;32mNone\u001b[0m\u001b[1;33m\u001b[0m\u001b[1;33m\u001b[0m\u001b[0m\n\u001b[0m\u001b[0;32m    905\u001b[0m             \u001b[1;32mexcept\u001b[0m \u001b[0mException\u001b[0m \u001b[1;32mas\u001b[0m \u001b[0me\u001b[0m\u001b[1;33m:\u001b[0m\u001b[1;33m\u001b[0m\u001b[1;33m\u001b[0m\u001b[0m\n\u001b[0;32m    906\u001b[0m                 \u001b[0mself\u001b[0m\u001b[1;33m.\u001b[0m\u001b[0mlog\u001b[0m\u001b[1;33m.\u001b[0m\u001b[0mwarning\u001b[0m\u001b[1;33m(\u001b[0m\u001b[1;34m\"Invalid Message:\"\u001b[0m\u001b[1;33m,\u001b[0m \u001b[0mexc_info\u001b[0m\u001b[1;33m=\u001b[0m\u001b[1;32mTrue\u001b[0m\u001b[1;33m)\u001b[0m\u001b[1;33m\u001b[0m\u001b[1;33m\u001b[0m\u001b[0m\n",
      "\u001b[1;31mKeyboardInterrupt\u001b[0m: Interrupted by user"
     ]
    }
   ],
   "source": [
    "def select_drink():\n",
    "    print(f'You have ${cash_inserted}')\n",
    "    print(\"Menu:\")\n",
    "    print(\"Water : $1.50\")\n",
    "    print(\"Soda : $2.00\")\n",
    "    print(\"Juice : $2.50\")\n",
    "    print(\"Energy Drink : $3.00\")\n",
    "    drink_selection = input(\"Please select a drink:\")\n",
    "    \n",
    "select_drink()"
   ]
  },
  {
   "cell_type": "code",
   "execution_count": 104,
   "metadata": {},
   "outputs": [],
   "source": [
    "inserted_cash = []\n",
    "class vending_machine:\n",
    "    def __init__(self, cash):\n",
    "        self.cash = input(\"Please insert cash: $\")\n",
    "        \n",
    "    def cash_convert(self):\n",
    "            global inserted_cash\n",
    "            cash = int(self.cash) * 100\n",
    "            inserted_cash = cash\n",
    "            print(inserted_cash)\n",
    "    \n",
    "    def select_drink(self):\n",
    "        drink_cost = {\n",
    "    \"Water\" : 150,\n",
    "    \"Soda\" : 200,\n",
    "    \"Juice\" : 250,\n",
    "    \"Energy Drink\" : 300\n",
    "}\n",
    "        \n",
    "        print(f'You have ${(inserted_cash * .01)}')\n",
    "        print(\"Menu:\")\n",
    "        print(\"Water : $1.50\")\n",
    "        print(\"Soda : $2.00\")\n",
    "        print(\"Juice : $2.50\")\n",
    "        print(\"Energy Drink : $3.00\")\n",
    "        global drink_selection\n",
    "        drink_selection = input(\"Please select a drink:\")\n",
    "        global selection_cost\n",
    "        selection_cost = drink_cost.get(drink_selection)\n",
    "        \n",
    "    def transaction(self):\n",
    "        if inserted_cash < selection_cost:\n",
    "            print('You do not have enough for this item.')\n",
    "        else:\n",
    "            change = int(inserted_cash) - selection_cost\n",
    "            change = int(change) * .01\n",
    "            print(f\"Thank you, your change is ${change}, enjoy your {drink_selection}!\")\n",
    "    \n"
   ]
  },
  {
   "cell_type": "code",
   "execution_count": null,
   "metadata": {},
   "outputs": [],
   "source": [
    "p = vending_machine(1)\n",
    "p\n",
    "p.cash_convert()\n",
    "p.select_drink()\n",
    "p.transaction()"
   ]
  },
  {
   "cell_type": "code",
   "execution_count": null,
   "metadata": {},
   "outputs": [],
   "source": []
  }
 ],
 "metadata": {
  "kernelspec": {
   "display_name": "Python 3",
   "language": "python",
   "name": "python3"
  },
  "language_info": {
   "codemirror_mode": {
    "name": "ipython",
    "version": 3
   },
   "file_extension": ".py",
   "mimetype": "text/x-python",
   "name": "python",
   "nbconvert_exporter": "python",
   "pygments_lexer": "ipython3",
   "version": "3.8.5"
  }
 },
 "nbformat": 4,
 "nbformat_minor": 4
}
